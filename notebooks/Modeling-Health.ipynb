{
 "cells": [
  {
   "cell_type": "markdown",
   "metadata": {},
   "source": [
    "# Machine Learning fo Reaserch\n",
    "\n",
    "#### [Institute of Data Science at Maastricht University](https://www.maastrichtuniversity.nl/research/institute-data-science)\n",
    "---"
   ]
  },
  {
   "cell_type": "markdown",
   "metadata": {},
   "source": [
    "## Steps to choose a method based in a research question"
   ]
  },
  {
   "cell_type": "markdown",
   "metadata": {},
   "source": [
    "- 1) Get to know your data  \n",
    "- 2) Fit on train data  \n",
    "- 3) Evaluate on test data  \n",
    "- 4) Compare Methods  "
   ]
  },
  {
   "cell_type": "code",
   "execution_count": 1,
   "metadata": {
    "ExecuteTime": {
     "end_time": "2018-04-24T12:17:50.684360Z",
     "start_time": "2018-04-24T12:17:44.599413Z"
    }
   },
   "outputs": [],
   "source": [
    "#import turicreate as tc\n",
    "import pandas as pd\n",
    "import seaborn as sb\n",
    "import matplotlib.pyplot as plt\n",
    "%matplotlib inline"
   ]
  },
  {
   "cell_type": "markdown",
   "metadata": {},
   "source": [
    "***`turicreate` [documentation](https://apple.github.io/turicreate/docs/api/index.html)***"
   ]
  },
  {
   "cell_type": "markdown",
   "metadata": {},
   "source": [
    "### Load Across National Health Data\n",
    "- Terms of use [ICPSR 34241](https://www.icpsr.umich.edu/icpsrweb/ICPSR/studies/34241/terms)"
   ]
  },
  {
   "cell_type": "markdown",
   "metadata": {},
   "source": [
    "This Across-national Health Outcome dataset includes over 30000 participants' personal social, economic, life-style, health data across 6 countries -- India, Ghana, China, South Africa, Mexico, and Russia. Features contains income, education level, parents socio-economic level, drinking, smoking, self-report health status, chronic disease, etc.\n",
    "Dataset contains categorial value: 0 or 1 or -1 (-1 means value is missing), numercial values. \n"
   ]
  },
  {
   "cell_type": "markdown",
   "metadata": {},
   "source": [
    "This data is a part of Research on Early Life and Aging Trends and Effects:\n",
    "McEniry, Mary. Research on Early Life and Aging Trends and Effects (RELATE): A Cross-National Study. Ann Arbor, MI: Inter-university Consortium for Political and Social Research [distributor], 2015-05-07. https://doi.org/10.3886/ICPSR34241.v2 "
   ]
  },
  {
   "cell_type": "code",
   "execution_count": 4,
   "metadata": {
    "ExecuteTime": {
     "end_time": "2018-04-24T12:27:27.798728Z",
     "start_time": "2018-04-24T12:27:01.559319Z"
    }
   },
   "outputs": [],
   "source": [
    "df_health = pd.read_csv('https://s3.eu-west-3.amazonaws.com/pedrohserrano-datasets/across-national-health-data.csv')"
   ]
  },
  {
   "cell_type": "code",
   "execution_count": 5,
   "metadata": {
    "ExecuteTime": {
     "end_time": "2018-04-24T12:27:27.853700Z",
     "start_time": "2018-04-24T12:27:27.801697Z"
    }
   },
   "outputs": [
    {
     "data": {
      "text/html": [
       "<div>\n",
       "<style>\n",
       "    .dataframe thead tr:only-child th {\n",
       "        text-align: right;\n",
       "    }\n",
       "\n",
       "    .dataframe thead th {\n",
       "        text-align: left;\n",
       "    }\n",
       "\n",
       "    .dataframe tbody tr th {\n",
       "        vertical-align: top;\n",
       "    }\n",
       "</style>\n",
       "<table border=\"1\" class=\"dataframe\">\n",
       "  <thead>\n",
       "    <tr style=\"text-align: right;\">\n",
       "      <th></th>\n",
       "      <th>ID</th>\n",
       "      <th>COUNTRY</th>\n",
       "      <th>BIRTHCOHORT</th>\n",
       "      <th>RESIDENCE</th>\n",
       "      <th>GENDER</th>\n",
       "      <th>AGE</th>\n",
       "      <th>CIVIL</th>\n",
       "      <th>POSITIONFIN</th>\n",
       "      <th>YEDUCA</th>\n",
       "      <th>EDUCATION</th>\n",
       "      <th>...</th>\n",
       "      <th>DIABETES</th>\n",
       "      <th>STROKE</th>\n",
       "      <th>ARTHRITIS</th>\n",
       "      <th>NCHRONIC</th>\n",
       "      <th>WEIGHT</th>\n",
       "      <th>WAIST</th>\n",
       "      <th>HIP</th>\n",
       "      <th>BMI</th>\n",
       "      <th>BMI_CAT</th>\n",
       "      <th>OBESITY</th>\n",
       "    </tr>\n",
       "  </thead>\n",
       "  <tbody>\n",
       "    <tr>\n",
       "      <th>0</th>\n",
       "      <td>3323</td>\n",
       "      <td>Ghana-WHO/SAGE</td>\n",
       "      <td>15</td>\n",
       "      <td>0</td>\n",
       "      <td>1</td>\n",
       "      <td>50</td>\n",
       "      <td>2</td>\n",
       "      <td>1</td>\n",
       "      <td>0</td>\n",
       "      <td>2</td>\n",
       "      <td>...</td>\n",
       "      <td>0</td>\n",
       "      <td>0</td>\n",
       "      <td>0</td>\n",
       "      <td>0</td>\n",
       "      <td>76</td>\n",
       "      <td>104</td>\n",
       "      <td>106</td>\n",
       "      <td>25.57049</td>\n",
       "      <td>4</td>\n",
       "      <td>0</td>\n",
       "    </tr>\n",
       "    <tr>\n",
       "      <th>1</th>\n",
       "      <td>11580</td>\n",
       "      <td>China-WHO/SAGE</td>\n",
       "      <td>12</td>\n",
       "      <td>0</td>\n",
       "      <td>1</td>\n",
       "      <td>66</td>\n",
       "      <td>1</td>\n",
       "      <td>1</td>\n",
       "      <td>2</td>\n",
       "      <td>2</td>\n",
       "      <td>...</td>\n",
       "      <td>0</td>\n",
       "      <td>0</td>\n",
       "      <td>1</td>\n",
       "      <td>1</td>\n",
       "      <td>65.5</td>\n",
       "      <td>88</td>\n",
       "      <td>100</td>\n",
       "      <td>24.65279</td>\n",
       "      <td>3</td>\n",
       "      <td>0</td>\n",
       "    </tr>\n",
       "    <tr>\n",
       "      <th>2</th>\n",
       "      <td>5593</td>\n",
       "      <td>China-WHO/SAGE</td>\n",
       "      <td>12</td>\n",
       "      <td>1</td>\n",
       "      <td>1</td>\n",
       "      <td>65</td>\n",
       "      <td>1</td>\n",
       "      <td>3</td>\n",
       "      <td>0</td>\n",
       "      <td>1</td>\n",
       "      <td>...</td>\n",
       "      <td>0</td>\n",
       "      <td>0</td>\n",
       "      <td>0</td>\n",
       "      <td>0</td>\n",
       "      <td>32</td>\n",
       "      <td>64.2</td>\n",
       "      <td>84.4</td>\n",
       "      <td>17.25027</td>\n",
       "      <td>2</td>\n",
       "      <td>0</td>\n",
       "    </tr>\n",
       "    <tr>\n",
       "      <th>3</th>\n",
       "      <td>8744</td>\n",
       "      <td>China-WHO/SAGE</td>\n",
       "      <td>12</td>\n",
       "      <td>0</td>\n",
       "      <td>0</td>\n",
       "      <td>68</td>\n",
       "      <td>1</td>\n",
       "      <td>2</td>\n",
       "      <td>6</td>\n",
       "      <td>2</td>\n",
       "      <td>...</td>\n",
       "      <td>0</td>\n",
       "      <td>0</td>\n",
       "      <td>0</td>\n",
       "      <td>0</td>\n",
       "      <td>75</td>\n",
       "      <td>95</td>\n",
       "      <td>102</td>\n",
       "      <td>27.2173</td>\n",
       "      <td>4</td>\n",
       "      <td>0</td>\n",
       "    </tr>\n",
       "    <tr>\n",
       "      <th>4</th>\n",
       "      <td>6277</td>\n",
       "      <td>China-WHO/SAGE</td>\n",
       "      <td>14</td>\n",
       "      <td>1</td>\n",
       "      <td>0</td>\n",
       "      <td>55</td>\n",
       "      <td>1</td>\n",
       "      <td>1</td>\n",
       "      <td>6</td>\n",
       "      <td>2</td>\n",
       "      <td>...</td>\n",
       "      <td>0</td>\n",
       "      <td>0</td>\n",
       "      <td>0</td>\n",
       "      <td>0</td>\n",
       "      <td>69</td>\n",
       "      <td>76.5</td>\n",
       "      <td>90.5</td>\n",
       "      <td>23.6523</td>\n",
       "      <td>3</td>\n",
       "      <td>0</td>\n",
       "    </tr>\n",
       "  </tbody>\n",
       "</table>\n",
       "<p>5 rows × 61 columns</p>\n",
       "</div>"
      ],
      "text/plain": [
       "      ID         COUNTRY  BIRTHCOHORT  RESIDENCE  GENDER AGE  CIVIL  \\\n",
       "0   3323  Ghana-WHO/SAGE           15          0       1  50      2   \n",
       "1  11580  China-WHO/SAGE           12          0       1  66      1   \n",
       "2   5593  China-WHO/SAGE           12          1       1  65      1   \n",
       "3   8744  China-WHO/SAGE           12          0       0  68      1   \n",
       "4   6277  China-WHO/SAGE           14          1       0  55      1   \n",
       "\n",
       "   POSITIONFIN YEDUCA  EDUCATION   ...    DIABETES STROKE  ARTHRITIS  \\\n",
       "0            1      0          2   ...           0      0          0   \n",
       "1            1      2          2   ...           0      0          1   \n",
       "2            3      0          1   ...           0      0          0   \n",
       "3            2      6          2   ...           0      0          0   \n",
       "4            1      6          2   ...           0      0          0   \n",
       "\n",
       "   NCHRONIC  WEIGHT WAIST   HIP       BMI  BMI_CAT  OBESITY  \n",
       "0         0      76   104   106  25.57049        4        0  \n",
       "1         1    65.5    88   100  24.65279        3        0  \n",
       "2         0      32  64.2  84.4  17.25027        2        0  \n",
       "3         0      75    95   102   27.2173        4        0  \n",
       "4         0      69  76.5  90.5   23.6523        3        0  \n",
       "\n",
       "[5 rows x 61 columns]"
      ]
     },
     "execution_count": 5,
     "metadata": {},
     "output_type": "execute_result"
    }
   ],
   "source": [
    "df_health.head()"
   ]
  },
  {
   "cell_type": "markdown",
   "metadata": {},
   "source": [
    "---\n",
    "## Get to know your data"
   ]
  },
  {
   "cell_type": "code",
   "execution_count": 6,
   "metadata": {
    "ExecuteTime": {
     "end_time": "2018-04-24T12:27:28.105696Z",
     "start_time": "2018-04-24T12:27:27.856706Z"
    }
   },
   "outputs": [
    {
     "data": {
      "text/html": [
       "<div>\n",
       "<style>\n",
       "    .dataframe thead tr:only-child th {\n",
       "        text-align: right;\n",
       "    }\n",
       "\n",
       "    .dataframe thead th {\n",
       "        text-align: left;\n",
       "    }\n",
       "\n",
       "    .dataframe tbody tr th {\n",
       "        vertical-align: top;\n",
       "    }\n",
       "</style>\n",
       "<table border=\"1\" class=\"dataframe\">\n",
       "  <thead>\n",
       "    <tr style=\"text-align: right;\">\n",
       "      <th></th>\n",
       "      <th>ID</th>\n",
       "      <th>BIRTHCOHORT</th>\n",
       "      <th>RESIDENCE</th>\n",
       "      <th>GENDER</th>\n",
       "      <th>CIVIL</th>\n",
       "      <th>POSITIONFIN</th>\n",
       "      <th>EDUCATION</th>\n",
       "      <th>QUINT</th>\n",
       "      <th>WEALTH_INDEX</th>\n",
       "      <th>WEALTH_ASSETS</th>\n",
       "      <th>...</th>\n",
       "      <th>RESPIRATORY</th>\n",
       "      <th>HEART</th>\n",
       "      <th>ANGINA</th>\n",
       "      <th>HEART_ATTACK</th>\n",
       "      <th>DIABETES</th>\n",
       "      <th>STROKE</th>\n",
       "      <th>ARTHRITIS</th>\n",
       "      <th>NCHRONIC</th>\n",
       "      <th>BMI_CAT</th>\n",
       "      <th>OBESITY</th>\n",
       "    </tr>\n",
       "  </thead>\n",
       "  <tbody>\n",
       "    <tr>\n",
       "      <th>count</th>\n",
       "      <td>37725.000000</td>\n",
       "      <td>37725.000000</td>\n",
       "      <td>37725.000000</td>\n",
       "      <td>37725.000000</td>\n",
       "      <td>37725.000000</td>\n",
       "      <td>37725.000000</td>\n",
       "      <td>37725.000000</td>\n",
       "      <td>37725.000000</td>\n",
       "      <td>37725.000000</td>\n",
       "      <td>37725.000000</td>\n",
       "      <td>...</td>\n",
       "      <td>37725.000000</td>\n",
       "      <td>37725.000000</td>\n",
       "      <td>37725.000000</td>\n",
       "      <td>37725.0</td>\n",
       "      <td>37725.000000</td>\n",
       "      <td>37725.000000</td>\n",
       "      <td>37725.000000</td>\n",
       "      <td>37725.000000</td>\n",
       "      <td>37725.000000</td>\n",
       "      <td>37725.000000</td>\n",
       "    </tr>\n",
       "    <tr>\n",
       "      <th>mean</th>\n",
       "      <td>4033.850364</td>\n",
       "      <td>11.315176</td>\n",
       "      <td>0.445169</td>\n",
       "      <td>0.434964</td>\n",
       "      <td>1.619404</td>\n",
       "      <td>1.323605</td>\n",
       "      <td>1.796978</td>\n",
       "      <td>2.307462</td>\n",
       "      <td>2.204665</td>\n",
       "      <td>3.995679</td>\n",
       "      <td>...</td>\n",
       "      <td>-0.055162</td>\n",
       "      <td>-0.133121</td>\n",
       "      <td>-0.133121</td>\n",
       "      <td>-1.0</td>\n",
       "      <td>-0.047634</td>\n",
       "      <td>-0.084904</td>\n",
       "      <td>0.071146</td>\n",
       "      <td>0.554672</td>\n",
       "      <td>2.719841</td>\n",
       "      <td>-0.029264</td>\n",
       "    </tr>\n",
       "    <tr>\n",
       "      <th>std</th>\n",
       "      <td>3307.125560</td>\n",
       "      <td>3.868191</td>\n",
       "      <td>0.558426</td>\n",
       "      <td>0.620141</td>\n",
       "      <td>1.500357</td>\n",
       "      <td>0.891373</td>\n",
       "      <td>1.385564</td>\n",
       "      <td>1.975064</td>\n",
       "      <td>1.077217</td>\n",
       "      <td>2.836785</td>\n",
       "      <td>...</td>\n",
       "      <td>0.418219</td>\n",
       "      <td>0.604201</td>\n",
       "      <td>0.604201</td>\n",
       "      <td>0.0</td>\n",
       "      <td>0.428834</td>\n",
       "      <td>0.374792</td>\n",
       "      <td>0.545974</td>\n",
       "      <td>1.094957</td>\n",
       "      <td>1.813441</td>\n",
       "      <td>0.525959</td>\n",
       "    </tr>\n",
       "    <tr>\n",
       "      <th>min</th>\n",
       "      <td>1.000000</td>\n",
       "      <td>-1.000000</td>\n",
       "      <td>-1.000000</td>\n",
       "      <td>-1.000000</td>\n",
       "      <td>-1.000000</td>\n",
       "      <td>-1.000000</td>\n",
       "      <td>-1.000000</td>\n",
       "      <td>-1.000000</td>\n",
       "      <td>-1.000000</td>\n",
       "      <td>-1.000000</td>\n",
       "      <td>...</td>\n",
       "      <td>-1.000000</td>\n",
       "      <td>-1.000000</td>\n",
       "      <td>-1.000000</td>\n",
       "      <td>-1.0</td>\n",
       "      <td>-1.000000</td>\n",
       "      <td>-1.000000</td>\n",
       "      <td>-1.000000</td>\n",
       "      <td>-1.000000</td>\n",
       "      <td>-1.000000</td>\n",
       "      <td>-1.000000</td>\n",
       "    </tr>\n",
       "    <tr>\n",
       "      <th>25%</th>\n",
       "      <td>1572.000000</td>\n",
       "      <td>10.000000</td>\n",
       "      <td>0.000000</td>\n",
       "      <td>0.000000</td>\n",
       "      <td>1.000000</td>\n",
       "      <td>1.000000</td>\n",
       "      <td>1.000000</td>\n",
       "      <td>1.000000</td>\n",
       "      <td>1.000000</td>\n",
       "      <td>1.000000</td>\n",
       "      <td>...</td>\n",
       "      <td>0.000000</td>\n",
       "      <td>-1.000000</td>\n",
       "      <td>-1.000000</td>\n",
       "      <td>-1.0</td>\n",
       "      <td>0.000000</td>\n",
       "      <td>0.000000</td>\n",
       "      <td>0.000000</td>\n",
       "      <td>0.000000</td>\n",
       "      <td>3.000000</td>\n",
       "      <td>0.000000</td>\n",
       "    </tr>\n",
       "    <tr>\n",
       "      <th>50%</th>\n",
       "      <td>3144.000000</td>\n",
       "      <td>12.000000</td>\n",
       "      <td>0.000000</td>\n",
       "      <td>1.000000</td>\n",
       "      <td>1.000000</td>\n",
       "      <td>1.000000</td>\n",
       "      <td>2.000000</td>\n",
       "      <td>2.000000</td>\n",
       "      <td>3.000000</td>\n",
       "      <td>4.000000</td>\n",
       "      <td>...</td>\n",
       "      <td>0.000000</td>\n",
       "      <td>0.000000</td>\n",
       "      <td>0.000000</td>\n",
       "      <td>-1.0</td>\n",
       "      <td>0.000000</td>\n",
       "      <td>0.000000</td>\n",
       "      <td>0.000000</td>\n",
       "      <td>0.000000</td>\n",
       "      <td>3.000000</td>\n",
       "      <td>0.000000</td>\n",
       "    </tr>\n",
       "    <tr>\n",
       "      <th>75%</th>\n",
       "      <td>5544.000000</td>\n",
       "      <td>14.000000</td>\n",
       "      <td>1.000000</td>\n",
       "      <td>1.000000</td>\n",
       "      <td>2.000000</td>\n",
       "      <td>2.000000</td>\n",
       "      <td>3.000000</td>\n",
       "      <td>4.000000</td>\n",
       "      <td>3.000000</td>\n",
       "      <td>7.000000</td>\n",
       "      <td>...</td>\n",
       "      <td>0.000000</td>\n",
       "      <td>0.000000</td>\n",
       "      <td>0.000000</td>\n",
       "      <td>-1.0</td>\n",
       "      <td>0.000000</td>\n",
       "      <td>0.000000</td>\n",
       "      <td>0.000000</td>\n",
       "      <td>1.000000</td>\n",
       "      <td>4.000000</td>\n",
       "      <td>0.000000</td>\n",
       "    </tr>\n",
       "    <tr>\n",
       "      <th>max</th>\n",
       "      <td>13368.000000</td>\n",
       "      <td>16.000000</td>\n",
       "      <td>1.000000</td>\n",
       "      <td>1.000000</td>\n",
       "      <td>5.000000</td>\n",
       "      <td>3.000000</td>\n",
       "      <td>4.000000</td>\n",
       "      <td>5.000000</td>\n",
       "      <td>3.000000</td>\n",
       "      <td>8.000000</td>\n",
       "      <td>...</td>\n",
       "      <td>1.000000</td>\n",
       "      <td>1.000000</td>\n",
       "      <td>1.000000</td>\n",
       "      <td>-1.0</td>\n",
       "      <td>1.000000</td>\n",
       "      <td>1.000000</td>\n",
       "      <td>1.000000</td>\n",
       "      <td>6.000000</td>\n",
       "      <td>5.000000</td>\n",
       "      <td>1.000000</td>\n",
       "    </tr>\n",
       "  </tbody>\n",
       "</table>\n",
       "<p>8 rows × 49 columns</p>\n",
       "</div>"
      ],
      "text/plain": [
       "                 ID   BIRTHCOHORT     RESIDENCE        GENDER         CIVIL  \\\n",
       "count  37725.000000  37725.000000  37725.000000  37725.000000  37725.000000   \n",
       "mean    4033.850364     11.315176      0.445169      0.434964      1.619404   \n",
       "std     3307.125560      3.868191      0.558426      0.620141      1.500357   \n",
       "min        1.000000     -1.000000     -1.000000     -1.000000     -1.000000   \n",
       "25%     1572.000000     10.000000      0.000000      0.000000      1.000000   \n",
       "50%     3144.000000     12.000000      0.000000      1.000000      1.000000   \n",
       "75%     5544.000000     14.000000      1.000000      1.000000      2.000000   \n",
       "max    13368.000000     16.000000      1.000000      1.000000      5.000000   \n",
       "\n",
       "        POSITIONFIN     EDUCATION         QUINT  WEALTH_INDEX  WEALTH_ASSETS  \\\n",
       "count  37725.000000  37725.000000  37725.000000  37725.000000   37725.000000   \n",
       "mean       1.323605      1.796978      2.307462      2.204665       3.995679   \n",
       "std        0.891373      1.385564      1.975064      1.077217       2.836785   \n",
       "min       -1.000000     -1.000000     -1.000000     -1.000000      -1.000000   \n",
       "25%        1.000000      1.000000      1.000000      1.000000       1.000000   \n",
       "50%        1.000000      2.000000      2.000000      3.000000       4.000000   \n",
       "75%        2.000000      3.000000      4.000000      3.000000       7.000000   \n",
       "max        3.000000      4.000000      5.000000      3.000000       8.000000   \n",
       "\n",
       "           ...        RESPIRATORY         HEART        ANGINA  HEART_ATTACK  \\\n",
       "count      ...       37725.000000  37725.000000  37725.000000       37725.0   \n",
       "mean       ...          -0.055162     -0.133121     -0.133121          -1.0   \n",
       "std        ...           0.418219      0.604201      0.604201           0.0   \n",
       "min        ...          -1.000000     -1.000000     -1.000000          -1.0   \n",
       "25%        ...           0.000000     -1.000000     -1.000000          -1.0   \n",
       "50%        ...           0.000000      0.000000      0.000000          -1.0   \n",
       "75%        ...           0.000000      0.000000      0.000000          -1.0   \n",
       "max        ...           1.000000      1.000000      1.000000          -1.0   \n",
       "\n",
       "           DIABETES        STROKE     ARTHRITIS      NCHRONIC       BMI_CAT  \\\n",
       "count  37725.000000  37725.000000  37725.000000  37725.000000  37725.000000   \n",
       "mean      -0.047634     -0.084904      0.071146      0.554672      2.719841   \n",
       "std        0.428834      0.374792      0.545974      1.094957      1.813441   \n",
       "min       -1.000000     -1.000000     -1.000000     -1.000000     -1.000000   \n",
       "25%        0.000000      0.000000      0.000000      0.000000      3.000000   \n",
       "50%        0.000000      0.000000      0.000000      0.000000      3.000000   \n",
       "75%        0.000000      0.000000      0.000000      1.000000      4.000000   \n",
       "max        1.000000      1.000000      1.000000      6.000000      5.000000   \n",
       "\n",
       "            OBESITY  \n",
       "count  37725.000000  \n",
       "mean      -0.029264  \n",
       "std        0.525959  \n",
       "min       -1.000000  \n",
       "25%        0.000000  \n",
       "50%        0.000000  \n",
       "75%        0.000000  \n",
       "max        1.000000  \n",
       "\n",
       "[8 rows x 49 columns]"
      ]
     },
     "execution_count": 6,
     "metadata": {},
     "output_type": "execute_result"
    }
   ],
   "source": [
    "df_health.describe()"
   ]
  },
  {
   "cell_type": "markdown",
   "metadata": {},
   "source": [
    "### How many features are there ?"
   ]
  },
  {
   "cell_type": "code",
   "execution_count": 7,
   "metadata": {
    "ExecuteTime": {
     "end_time": "2018-04-24T12:27:28.113708Z",
     "start_time": "2018-04-24T12:27:28.109696Z"
    }
   },
   "outputs": [],
   "source": [
    "# sf.head()\n",
    "# sf.print_rows(num_rows=10, num_columns=61)"
   ]
  },
  {
   "cell_type": "markdown",
   "metadata": {},
   "source": [
    "### Is any value missing in the dataset ? "
   ]
  },
  {
   "cell_type": "code",
   "execution_count": 8,
   "metadata": {
    "ExecuteTime": {
     "end_time": "2018-04-24T12:27:28.123698Z",
     "start_time": "2018-04-24T12:27:28.117694Z"
    }
   },
   "outputs": [],
   "source": [
    "# sf = sf.dropna()\n",
    "\n",
    "# for i in sf.column_names():\n",
    "#     sf = sf[sf[i] != -1]\n",
    "# sf.materialize()\n",
    "# sf"
   ]
  },
  {
   "cell_type": "markdown",
   "metadata": {},
   "source": [
    "### What problem do you want to solve?"
   ]
  },
  {
   "cell_type": "markdown",
   "metadata": {},
   "source": [
    "Classify certain disease?  \n",
    "predicict health outcome?  \n",
    "Which features do have great impact on health?  \n",
    "Are you gonna use all data or one country data?"
   ]
  },
  {
   "cell_type": "markdown",
   "metadata": {},
   "source": [
    "Kunnen we voorspellen of iemand chronisch ziek is?"
   ]
  },
  {
   "cell_type": "code",
   "execution_count": 10,
   "metadata": {
    "ExecuteTime": {
     "end_time": "2018-04-24T12:27:50.541844Z",
     "start_time": "2018-04-24T12:27:50.535847Z"
    }
   },
   "outputs": [],
   "source": [
    "df_health[\"CHRONIC\"] = df_health[\"NCHRONIC\"] >= 1"
   ]
  },
  {
   "cell_type": "code",
   "execution_count": 12,
   "metadata": {
    "ExecuteTime": {
     "end_time": "2018-04-24T12:28:04.933072Z",
     "start_time": "2018-04-24T12:28:04.919073Z"
    }
   },
   "outputs": [
    {
     "data": {
      "text/plain": [
       " 0    17167\n",
       " 1     9313\n",
       "-1     4612\n",
       " 2     4356\n",
       " 3     1703\n",
       " 4      473\n",
       " 5       95\n",
       " 6        6\n",
       "Name: NCHRONIC, dtype: int64"
      ]
     },
     "execution_count": 12,
     "metadata": {},
     "output_type": "execute_result"
    }
   ],
   "source": [
    "df_health.NCHRONIC.value_counts()"
   ]
  },
  {
   "cell_type": "code",
   "execution_count": 13,
   "metadata": {
    "ExecuteTime": {
     "end_time": "2018-04-24T12:28:16.798116Z",
     "start_time": "2018-04-24T12:28:16.785104Z"
    }
   },
   "outputs": [
    {
     "data": {
      "text/plain": [
       "False    21779\n",
       "True     15946\n",
       "Name: CHRONIC, dtype: int64"
      ]
     },
     "execution_count": 13,
     "metadata": {},
     "output_type": "execute_result"
    }
   ],
   "source": [
    "df_health.CHRONIC.value_counts()"
   ]
  },
  {
   "cell_type": "code",
   "execution_count": null,
   "metadata": {},
   "outputs": [],
   "source": []
  },
  {
   "cell_type": "markdown",
   "metadata": {},
   "source": [
    "Remove the feature which your target feature has an encoding relation."
   ]
  },
  {
   "cell_type": "code",
   "execution_count": null,
   "metadata": {},
   "outputs": [],
   "source": [
    "sf = sf.remove_columns(['NCHRONIC', 'ID'])\n",
    "sf = sf[sf['DIABETES'] != -1]\n",
    "sf = sf[sf['COUNTRY'] == 'China-WHO/SAGE']"
   ]
  },
  {
   "cell_type": "markdown",
   "metadata": {},
   "source": [
    "---\n",
    "## Fit on train data"
   ]
  },
  {
   "cell_type": "code",
   "execution_count": null,
   "metadata": {},
   "outputs": [],
   "source": [
    "sf_health = tc.SFrame('https://s3.eu-west-3.amazonaws.com/pedrohserrano-datasets/across-national-health-data.csv')"
   ]
  },
  {
   "cell_type": "markdown",
   "metadata": {},
   "source": [
    "---\n",
    "## Evaluate on test data"
   ]
  },
  {
   "cell_type": "markdown",
   "metadata": {},
   "source": [
    "---\n",
    "### Documentation of the Method"
   ]
  },
  {
   "cell_type": "markdown",
   "metadata": {},
   "source": [
    "The goal of construct a method is the reproducibility, that is why is important to document the procedures, taking into account versioning control of script for replicable science.\n",
    "\n",
    "Notebooks like this one go a long way toward making our work reproducible. Since we documented every step as we moved along, we have a written record of what we did and why we did it — both in text and code."
   ]
  },
  {
   "cell_type": "markdown",
   "metadata": {},
   "source": [
    "Beyond recording what we did, we should also document what software and hardware we used to perform our analysis. This typically goes at the top of our notebooks so our readers know what tools to use.\n",
    "\n",
    "[Sebastian Raschka](https://sebastianraschka.com/) created a handy notebook tool for this:"
   ]
  },
  {
   "cell_type": "code",
   "execution_count": null,
   "metadata": {},
   "outputs": [],
   "source": [
    "#!pip install watermark\n",
    "#only install once"
   ]
  },
  {
   "cell_type": "code",
   "execution_count": null,
   "metadata": {},
   "outputs": [],
   "source": [
    "%load_ext watermark"
   ]
  },
  {
   "cell_type": "code",
   "execution_count": null,
   "metadata": {},
   "outputs": [],
   "source": [
    "%watermark -a 'Maastricht University' -nmv --packages turicreate,pandas,seaborn,matplotlib"
   ]
  }
 ],
 "metadata": {
  "kernelspec": {
   "display_name": "Python 3",
   "language": "python",
   "name": "python3"
  },
  "language_info": {
   "codemirror_mode": {
    "name": "ipython",
    "version": 3
   },
   "file_extension": ".py",
   "mimetype": "text/x-python",
   "name": "python",
   "nbconvert_exporter": "python",
   "pygments_lexer": "ipython3",
   "version": "3.6.3"
  },
  "toc": {
   "colors": {
    "hover_highlight": "#DAA520",
    "navigate_num": "#000000",
    "navigate_text": "#333333",
    "running_highlight": "#FF0000",
    "selected_highlight": "#FFD700",
    "sidebar_border": "#EEEEEE",
    "wrapper_background": "#FFFFFF"
   },
   "moveMenuLeft": true,
   "nav_menu": {
    "height": "234px",
    "width": "253px"
   },
   "navigate_menu": true,
   "number_sections": true,
   "sideBar": true,
   "threshold": 4,
   "toc_cell": false,
   "toc_section_display": "block",
   "toc_window_display": false,
   "widenNotebook": false
  }
 },
 "nbformat": 4,
 "nbformat_minor": 2
}
