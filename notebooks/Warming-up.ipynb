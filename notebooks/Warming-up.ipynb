{
 "cells": [
  {
   "cell_type": "markdown",
   "metadata": {},
   "source": [
    "# Machine Learning fo Reaserch\n",
    "\n",
    "#### [Institute of Data Science at Maastricht University](https://www.maastrichtuniversity.nl/research/institute-data-science)\n",
    "---"
   ]
  },
  {
   "cell_type": "markdown",
   "metadata": {},
   "source": [
    "We will use the library [Turicreate](https://github.com/apple/turicreate) and the Dataset is from [Tom Slee Blog](http://tomslee.net/airbnb-data-collection-get-the-data) and it shows the most recent listings (2017-07-22) from Amsterdam Airbnb Rooms, itself is extracted from [Inside Airbnb](http://insideairbnb.com/) where is possible to make a very nice visual analysis following the hypothesis: Airbnb claims to be part of the \"sharing economy\" and disrupting the hotel industry. However, data shows that the majority of Airbnb listings in most cities are entire homes, many of which are rented all year round - disrupting housing and communities."
   ]
  },
  {
   "cell_type": "markdown",
   "metadata": {},
   "source": [
    "## Answering the question\n",
    "\n",
    ">Did you specify the type of data analytic question (e.g. exploration, association causality) before touching the data?\n",
    "\n",
    ">Did you define the metric for success before beginning?\n",
    "\n",
    ">Did you understand the context for the question and the scientific or business application?\n",
    "\n",
    ">Did you record the experimental design?\n",
    "\n",
    ">Did you consider whether the question could be answered with the available data?\n"
   ]
  },
  {
   "cell_type": "code",
   "execution_count": 4,
   "metadata": {
    "ExecuteTime": {
     "end_time": "2018-04-24T08:51:06.506392Z",
     "start_time": "2018-04-24T08:51:06.462400Z"
    }
   },
   "outputs": [
    {
     "name": "stderr",
     "output_type": "stream",
     "text": [
      "Python 3.6.3 :: Anaconda custom (64-bit)\n"
     ]
    }
   ],
   "source": [
    "!python --version"
   ]
  },
  {
   "cell_type": "code",
   "execution_count": 5,
   "metadata": {
    "ExecuteTime": {
     "end_time": "2018-04-24T08:53:43.301661Z",
     "start_time": "2018-04-24T08:53:37.349474Z"
    }
   },
   "outputs": [
    {
     "name": "stdout",
     "output_type": "stream",
     "text": [
      "Collecting turicreate\n",
      "  Using cached https://files.pythonhosted.org/packages/db/54/167837569bcb816b3fe68f003f18d07ab9d5ac31b2b12b8f9b07b1ccc7a4/turicreate-4.2.tar.gz\n",
      "Building wheels for collected packages: turicreate\n",
      "  Running setup.py bdist_wheel for turicreate: started\n",
      "  Running setup.py bdist_wheel for turicreate: finished with status 'error'\n",
      "  Complete output from command c:\\users\\niels.hameleers\\appdata\\local\\continuum\\anaconda3\\python.exe -u -c \"import setuptools, tokenize;__file__='C:\\\\Users\\\\NIELS~1.HAM\\\\AppData\\\\Local\\\\Temp\\\\pip-install-qat0nqpq\\\\turicreate\\\\setup.py';f=getattr(tokenize, 'open', open)(__file__);code=f.read().replace('\\r\\n', '\\n');f.close();exec(compile(code, __file__, 'exec'))\" bdist_wheel -d C:\\Users\\NIELS~1.HAM\\AppData\\Local\\Temp\\pip-wheel-ok7srd13 --python-tag cp36:\n",
      "  running bdist_wheel\n",
      "  running build\n",
      "  installing to build\\bdist.win-amd64\\wheel\n",
      "  running install\n",
      "  \n",
      "  \n",
      "          ==================================================================================\n",
      "          ERROR\n",
      "  \n",
      "          If you see this message, pip install did not find an available binary package\n",
      "          for your system. Supported platforms are:\n",
      "  \n",
      "          * Linux x86_64 (including WSL on Windows 10).\n",
      "          * macOS 10.12+ x86_64.\n",
      "          * Python 2.7, 3.5, or 3.6.\n",
      "  \n",
      "          Other possible causes of this error are:\n",
      "  \n",
      "          * Outdated pip version (try `pip install -U pip`).\n",
      "  \n",
      "          ==================================================================================\n",
      "  \n",
      "  \n",
      "  \n",
      "  ----------------------------------------\n",
      "  Running setup.py clean for turicreate\n",
      "Failed to build turicreate\n",
      "Installing collected packages: turicreate\n",
      "  Running setup.py install for turicreate: started\n",
      "    Running setup.py install for turicreate: finished with status 'error'\n",
      "    Complete output from command c:\\users\\niels.hameleers\\appdata\\local\\continuum\\anaconda3\\python.exe -u -c \"import setuptools, tokenize;__file__='C:\\\\Users\\\\NIELS~1.HAM\\\\AppData\\\\Local\\\\Temp\\\\pip-install-qat0nqpq\\\\turicreate\\\\setup.py';f=getattr(tokenize, 'open', open)(__file__);code=f.read().replace('\\r\\n', '\\n');f.close();exec(compile(code, __file__, 'exec'))\" install --record C:\\Users\\NIELS~1.HAM\\AppData\\Local\\Temp\\pip-record-h0n8gmis\\install-record.txt --single-version-externally-managed --compile:\n",
      "    running install\n",
      "    \n",
      "    \n",
      "            ==================================================================================\n",
      "            ERROR\n",
      "    \n",
      "            If you see this message, pip install did not find an available binary package\n",
      "            for your system. Supported platforms are:\n",
      "    \n",
      "            * Linux x86_64 (including WSL on Windows 10).\n",
      "            * macOS 10.12+ x86_64.\n",
      "            * Python 2.7, 3.5, or 3.6.\n",
      "    \n",
      "            Other possible causes of this error are:\n",
      "    \n",
      "            * Outdated pip version (try `pip install -U pip`).\n",
      "    \n",
      "            ==================================================================================\n",
      "    \n",
      "    \n",
      "    \n",
      "    ----------------------------------------\n"
     ]
    },
    {
     "name": "stderr",
     "output_type": "stream",
     "text": [
      "  Failed building wheel for turicreate\n",
      "notebook 5.3.1 requires terminado>=0.8.1, which is not installed.\n",
      "Command \"c:\\users\\niels.hameleers\\appdata\\local\\continuum\\anaconda3\\python.exe -u -c \"import setuptools, tokenize;__file__='C:\\\\Users\\\\NIELS~1.HAM\\\\AppData\\\\Local\\\\Temp\\\\pip-install-qat0nqpq\\\\turicreate\\\\setup.py';f=getattr(tokenize, 'open', open)(__file__);code=f.read().replace('\\r\\n', '\\n');f.close();exec(compile(code, __file__, 'exec'))\" install --record C:\\Users\\NIELS~1.HAM\\AppData\\Local\\Temp\\pip-record-h0n8gmis\\install-record.txt --single-version-externally-managed --compile\" failed with error code 1 in C:\\Users\\NIELS~1.HAM\\AppData\\Local\\Temp\\pip-install-qat0nqpq\\turicreate\\\n"
     ]
    }
   ],
   "source": [
    "!pip install -U turicreate\n"
   ]
  },
  {
   "cell_type": "code",
   "execution_count": 1,
   "metadata": {
    "ExecuteTime": {
     "end_time": "2018-04-24T08:46:41.269660Z",
     "start_time": "2018-04-24T08:46:41.145658Z"
    }
   },
   "outputs": [
    {
     "ename": "ModuleNotFoundError",
     "evalue": "No module named 'turicreate'",
     "output_type": "error",
     "traceback": [
      "\u001b[1;31m---------------------------------------------------------------------------\u001b[0m",
      "\u001b[1;31mModuleNotFoundError\u001b[0m                       Traceback (most recent call last)",
      "\u001b[1;32m<ipython-input-1-5e19a42750e5>\u001b[0m in \u001b[0;36m<module>\u001b[1;34m()\u001b[0m\n\u001b[1;32m----> 1\u001b[1;33m \u001b[1;32mimport\u001b[0m \u001b[0mturicreate\u001b[0m \u001b[1;32mas\u001b[0m \u001b[0mtc\u001b[0m\u001b[1;33m\u001b[0m\u001b[0m\n\u001b[0m",
      "\u001b[1;31mModuleNotFoundError\u001b[0m: No module named 'turicreate'"
     ]
    }
   ],
   "source": [
    "import turicreate as tc"
   ]
  },
  {
   "cell_type": "code",
   "execution_count": null,
   "metadata": {},
   "outputs": [],
   "source": [
    "sf_rooms = tc.SFrame('https://s3.eu-west-3.amazonaws.com/pedrohserrano-datasets/airbnb_amsterdam.csv')"
   ]
  },
  {
   "cell_type": "code",
   "execution_count": null,
   "metadata": {},
   "outputs": [],
   "source": [
    "sf_rooms.head()"
   ]
  },
  {
   "cell_type": "code",
   "execution_count": null,
   "metadata": {},
   "outputs": [],
   "source": [
    "# Make a train-test split\n",
    "sf_rooms['overall_satisfaction'] = sf_rooms['overall_satisfaction'].astype(str)\n",
    "train_data, test_data = sf_rooms.random_split(0.8)\n",
    "\n",
    "# Automatically picks the right model based on your data.\n",
    "model = tc.boosted_trees_classifier.create(train_data, target='overall_satisfaction',\n",
    "                                    features = ['room_type',\n",
    "                                                'neighborhood',\n",
    "                                                'reviews',\n",
    "                                                'accommodates',\n",
    "                                                'bedrooms',\n",
    "                                                'price'], max_iterations=10)\n",
    "\n",
    "# Save predictions to an SArray\n",
    "predictions = model.predict(test_data)\n",
    "\n",
    "# Evaluate the model and save the results into a dictionary\n",
    "results = model.evaluate(test_data)"
   ]
  },
  {
   "cell_type": "code",
   "execution_count": null,
   "metadata": {},
   "outputs": [],
   "source": [
    "results['confusion_matrix'].sort('count', ascending=False)"
   ]
  },
  {
   "cell_type": "markdown",
   "metadata": {},
   "source": [
    "**Create a new data values and predict**"
   ]
  },
  {
   "cell_type": "code",
   "execution_count": null,
   "metadata": {},
   "outputs": [],
   "source": [
    "new_data = tc.SFrame({'room_type':['Entire home/apt'], 'neighborhood':['Westerpark'], 'reviews':[5], 'accommodates':[2], 'bedrooms':[1], 'price':[50]})\n",
    "new_data"
   ]
  },
  {
   "cell_type": "code",
   "execution_count": null,
   "metadata": {},
   "outputs": [],
   "source": [
    "satisfaction = model.predict(new_data)\n",
    "print (\"Predicted Airbnb Satisfaction:  {}\".format(satisfaction[0]))"
   ]
  }
 ],
 "metadata": {
  "kernelspec": {
   "display_name": "Python 3",
   "language": "python",
   "name": "python3"
  },
  "language_info": {
   "codemirror_mode": {
    "name": "ipython",
    "version": 3
   },
   "file_extension": ".py",
   "mimetype": "text/x-python",
   "name": "python",
   "nbconvert_exporter": "python",
   "pygments_lexer": "ipython3",
   "version": "3.6.3"
  },
  "toc": {
   "colors": {
    "hover_highlight": "#DAA520",
    "navigate_num": "#000000",
    "navigate_text": "#333333",
    "running_highlight": "#FF0000",
    "selected_highlight": "#FFD700",
    "sidebar_border": "#EEEEEE",
    "wrapper_background": "#FFFFFF"
   },
   "moveMenuLeft": true,
   "nav_menu": {
    "height": "86px",
    "width": "253px"
   },
   "navigate_menu": true,
   "number_sections": true,
   "sideBar": true,
   "threshold": 4,
   "toc_cell": false,
   "toc_section_display": "block",
   "toc_window_display": false,
   "widenNotebook": false
  }
 },
 "nbformat": 4,
 "nbformat_minor": 2
}
